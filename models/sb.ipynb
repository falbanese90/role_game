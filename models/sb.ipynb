{
 "cells": [
  {
   "cell_type": "code",
   "execution_count": 12,
   "metadata": {},
   "outputs": [],
   "source": [
    "from structs import *"
   ]
  },
  {
   "cell_type": "code",
   "execution_count": 13,
   "metadata": {},
   "outputs": [],
   "source": [
    "axe = Weapon(\n",
    "    name=\"Axe\",\n",
    "    description=\"A simple axe\",\n",
    "    power=10,\n",
    "    price=100.0,\n",
    "    created_at=datetime.datetime.now(),\n",
    "    updated_at=datetime.datetime.now(),\n",
    ")"
   ]
  },
  {
   "cell_type": "code",
   "execution_count": 14,
   "metadata": {},
   "outputs": [],
   "source": [
    "sword = Weapon(\n",
    "    name=\"Sword\",\n",
    "    description=\"A simple sword\",\n",
    "    power=13,\n",
    "    price=150.0,\n",
    "    created_at=datetime.datetime.now(),\n",
    "    updated_at=datetime.datetime.now(),\n",
    ")"
   ]
  },
  {
   "cell_type": "code",
   "execution_count": 15,
   "metadata": {},
   "outputs": [],
   "source": [
    "staff = Weapon(\n",
    "    name=\"Staff\",\n",
    "    description=\"A simple staff\",\n",
    "    power=8,\n",
    "    price=80.0,\n",
    "    created_at=datetime.datetime.now(),\n",
    "    updated_at=datetime.datetime.now(),\n",
    ")"
   ]
  },
  {
   "cell_type": "code",
   "execution_count": 16,
   "metadata": {},
   "outputs": [
    {
     "data": {
      "text/plain": [
       "Weapon(id=None, name='Staff', description='A simple staff', power=8, price=80.0, created_at=datetime.datetime(2023, 6, 14, 1, 16, 50, 7318), updated_at=datetime.datetime(2023, 6, 14, 1, 16, 50, 7321))"
      ]
     },
     "execution_count": 16,
     "metadata": {},
     "output_type": "execute_result"
    }
   ],
   "source": [
    "staff"
   ]
  },
  {
   "cell_type": "code",
   "execution_count": 17,
   "metadata": {},
   "outputs": [
    {
     "name": "stdout",
     "output_type": "stream",
     "text": [
      "id=None name='Staff' description='A simple staff' power=8 price=80.0 created_at=datetime.datetime(2023, 6, 14, 1, 16, 50, 7318) updated_at=datetime.datetime(2023, 6, 14, 1, 16, 50, 7321)\n"
     ]
    }
   ],
   "source": [
    "print(staff)"
   ]
  },
  {
   "cell_type": "code",
   "execution_count": 19,
   "metadata": {},
   "outputs": [
    {
     "data": {
      "text/plain": [
       "<bound method Representation.__repr__ of Weapon(id=None, name='Staff', description='A simple staff', power=8, price=80.0, created_at=datetime.datetime(2023, 6, 14, 1, 16, 50, 7318), updated_at=datetime.datetime(2023, 6, 14, 1, 16, 50, 7321))>"
      ]
     },
     "execution_count": 19,
     "metadata": {},
     "output_type": "execute_result"
    }
   ],
   "source": [
    "staff.__repr__"
   ]
  },
  {
   "cell_type": "code",
   "execution_count": null,
   "metadata": {},
   "outputs": [],
   "source": []
  }
 ],
 "metadata": {
  "kernelspec": {
   "display_name": "Python 3.10.7 64-bit",
   "language": "python",
   "name": "python3"
  },
  "language_info": {
   "codemirror_mode": {
    "name": "ipython",
    "version": 3
   },
   "file_extension": ".py",
   "mimetype": "text/x-python",
   "name": "python",
   "nbconvert_exporter": "python",
   "pygments_lexer": "ipython3",
   "version": "3.10.7"
  },
  "orig_nbformat": 4,
  "vscode": {
   "interpreter": {
    "hash": "aee8b7b246df8f9039afb4144a1f6fd8d2ca17a180786b69acc140d282b71a49"
   }
  }
 },
 "nbformat": 4,
 "nbformat_minor": 2
}
